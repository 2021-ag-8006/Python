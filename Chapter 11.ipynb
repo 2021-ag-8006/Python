{
 "cells": [
  {
   "cell_type": "code",
   "execution_count": 1,
   "id": "adb10f55",
   "metadata": {},
   "outputs": [
    {
     "name": "stdout",
     "output_type": "stream",
     "text": [
      "Meow Meow Meow...\n"
     ]
    }
   ],
   "source": [
    "class Cat:\n",
    "    def speak(self):\n",
    "        print(\"Meow Meow Meow...\")\n",
    "myCat= Cat()\n",
    "myCat.speak()"
   ]
  },
  {
   "cell_type": "code",
   "execution_count": 8,
   "id": "44a72279",
   "metadata": {},
   "outputs": [
    {
     "name": "stdout",
     "output_type": "stream",
     "text": [
      "Meow! I am Lili! Meow\n"
     ]
    }
   ],
   "source": [
    "class Cat:\n",
    "    name=\"\"\n",
    "    def speak(self):\n",
    "        print(\"Meow! I am {}! Meow\".format(self.name))\n",
    "myLili = Cat()\n",
    "myLili.name = \"Lili\"\n",
    "myLili.speak()"
   ]
  },
  {
   "cell_type": "code",
   "execution_count": 7,
   "id": "3bd7469c",
   "metadata": {},
   "outputs": [
    {
     "name": "stdout",
     "output_type": "stream",
     "text": [
      "Meow! I am Lili! Meow\n",
      "Meow! I am Luna! Meow\n"
     ]
    }
   ],
   "source": [
    "class Cat:\n",
    "    name=\"\"\n",
    "    def speak(self):\n",
    "        print(\"Meow! I am {}! Meow\".format(self.name))\n",
    "myLili = Cat()\n",
    "myLili.name = \"Lili\"\n",
    "myLili.speak()\n",
    "\n",
    "myLuna = Cat()\n",
    "myLuna.name = \"Luna\"\n",
    "myLuna.speak()\n"
   ]
  },
  {
   "cell_type": "code",
   "execution_count": 10,
   "id": "0ae1ee2c",
   "metadata": {},
   "outputs": [
    {
     "data": {
      "text/plain": [
       "0"
      ]
     },
     "execution_count": 10,
     "metadata": {},
     "output_type": "execute_result"
    }
   ],
   "source": [
    "class cat:\n",
    "    years = 0\n",
    "    def age(self):\n",
    "        return self.years * 2\n",
    "myBella = cat()\n",
    "myBella.age()"
   ]
  },
  {
   "cell_type": "code",
   "execution_count": 11,
   "id": "ec38a567",
   "metadata": {},
   "outputs": [
    {
     "data": {
      "text/plain": [
       "4"
      ]
     },
     "execution_count": 11,
     "metadata": {},
     "output_type": "execute_result"
    }
   ],
   "source": [
    "class cat:\n",
    "    years = 0\n",
    "    def age(self):\n",
    "        return self.years * 2\n",
    "myBella = cat()\n",
    "myBella.years = 2\n",
    "myBella.age()"
   ]
  },
  {
   "cell_type": "code",
   "execution_count": 14,
   "id": "606a1287",
   "metadata": {},
   "outputs": [
    {
     "name": "stdout",
     "output_type": "stream",
     "text": [
      "red\n"
     ]
    }
   ],
   "source": [
    "class Apple:\n",
    "    def __init__(self,color,flavor):\n",
    "        self.color = color\n",
    "        self.flavor = flavor\n",
    "jonagold = Apple(\"red\",\"sweet\")\n",
    "print(jonagold.color)"
   ]
  },
  {
   "cell_type": "code",
   "execution_count": 15,
   "id": "0fd000b3",
   "metadata": {},
   "outputs": [],
   "source": [
    ">>> class Apple:\n",
    "        def __init__(self,color,flavor):\n",
    "            self.color = color\n",
    "            self.flavor = flavor\n",
    "        def __str__(self):\n",
    "            return\"This apple is {} and its color is {}\".format(self.color, self.flavor)"
   ]
  },
  {
   "cell_type": "code",
   "execution_count": 19,
   "id": "3cf7905e",
   "metadata": {},
   "outputs": [
    {
     "name": "stdout",
     "output_type": "stream",
     "text": [
      "This apple is red and its color is sweet\n"
     ]
    }
   ],
   "source": [
    ">>> jonagold = Apple (\"red\",\"sweet\")\n",
    ">>> print (jonagold)\n"
   ]
  },
  {
   "cell_type": "code",
   "execution_count": 20,
   "id": "7f4a11f1",
   "metadata": {},
   "outputs": [],
   "source": [
    ">>> class Fruit:\n",
    "       def __init__(self,color,flavor):\n",
    "            self.color = color\n",
    "            self.flavor = flavor"
   ]
  },
  {
   "cell_type": "code",
   "execution_count": 21,
   "id": "e300664f",
   "metadata": {},
   "outputs": [],
   "source": [
    ">>> class Apple(Fruit):\n",
    "        pass\n",
    "    \n",
    ">>> class Grape(Fruit):\n",
    "        pass"
   ]
  },
  {
   "cell_type": "code",
   "execution_count": 23,
   "id": "c8b57217",
   "metadata": {},
   "outputs": [
    {
     "name": "stdout",
     "output_type": "stream",
     "text": [
      "tart\n",
      "purple\n"
     ]
    }
   ],
   "source": [
    ">>> smith = Apple (\"green\",\"tart\")\n",
    ">>> lili = Grape (\"purple\",\"sweet\")\n",
    ">>> print(smith.flavor)\n",
    ">>> print (lili.color)"
   ]
  },
  {
   "cell_type": "code",
   "execution_count": 27,
   "id": "d8dc4a68",
   "metadata": {},
   "outputs": [
    {
     "name": "stdout",
     "output_type": "stream",
     "text": [
      "Meow i am Luna!Meow\n",
      "Mooo i am Milky!Mooo\n"
     ]
    }
   ],
   "source": [
    "class Animal:\n",
    "    sound =\"\"\n",
    "    def __init__(self,name):\n",
    "        self.name =name\n",
    "    def speak(self):\n",
    "        print(\"{sound} i am {name}!{sound}\".format(name=self.name, sound=self.sound))\n",
    "        \n",
    "class Cat(Animal):\n",
    "    sound = \"Meow\" \n",
    "    \n",
    "myLuna = Cat(\"Luna\") \n",
    "myLuna.speak()\n",
    "\n",
    "class Cow(Animal):\n",
    "    sound = \"Mooo\"\n",
    "    \n",
    "myCow = Cow(\"Milky\")\n",
    "myCow.speak()      \n",
    "        "
   ]
  },
  {
   "cell_type": "code",
   "execution_count": 28,
   "id": "5f59d840",
   "metadata": {},
   "outputs": [
    {
     "data": {
      "text/plain": [
       "8"
      ]
     },
     "execution_count": 28,
     "metadata": {},
     "output_type": "execute_result"
    }
   ],
   "source": [
    ">>> import random\n",
    ">>> random.randint(1,10)"
   ]
  },
  {
   "cell_type": "code",
   "execution_count": 29,
   "id": "da9ff6ca",
   "metadata": {},
   "outputs": [
    {
     "data": {
      "text/plain": [
       "5"
      ]
     },
     "execution_count": 29,
     "metadata": {},
     "output_type": "execute_result"
    }
   ],
   "source": [
    ">>> random.randint(1,10)"
   ]
  },
  {
   "cell_type": "code",
   "execution_count": 31,
   "id": "f2a8c336",
   "metadata": {},
   "outputs": [
    {
     "name": "stdout",
     "output_type": "stream",
     "text": [
      "2023-09-26 09:51:40.793211\n"
     ]
    }
   ],
   "source": [
    ">>> import datetime\n",
    ">>> now = datetime.datetime.now()\n",
    ">>> type(now)\n",
    "\n",
    ">>> print(now)"
   ]
  },
  {
   "cell_type": "code",
   "execution_count": 32,
   "id": "16e57ead",
   "metadata": {},
   "outputs": [
    {
     "name": "stdout",
     "output_type": "stream",
     "text": [
      "2023-09-26 09:51:40.793211\n",
      "2023-10-24 09:51:40.793211\n"
     ]
    }
   ],
   "source": [
    ">>> print(now)\n",
    ">>> now.year\n",
    ">>> print(now + datetime.timedelta(days=28))"
   ]
  },
  {
   "cell_type": "code",
   "execution_count": 33,
   "id": "43ca1763",
   "metadata": {},
   "outputs": [
    {
     "name": "stdout",
     "output_type": "stream",
     "text": [
      "hi, my name is Ali\n",
      "None\n"
     ]
    }
   ],
   "source": [
    "class Person:\n",
    "    def __init__(self, name):\n",
    "        self.name = name\n",
    "    def greeting(self):\n",
    "        # Should return \"hi, my name is \" followed by the name of the Person.\n",
    "        return print(\"hi, my name is {}\".format(self.name))\n",
    "\n",
    "# Create a new instance with a name of your choice\n",
    "some_person = Person(\"Ali\") \n",
    "# Call the greeting method\n",
    "print(some_person.greeting())"
   ]
  },
  {
   "cell_type": "code",
   "execution_count": 34,
   "id": "4c13c270",
   "metadata": {},
   "outputs": [],
   "source": [
    "class Repository:\n",
    "    def __init__(self):\n",
    "        self.packages = {}\n",
    "    def add_package(self, package):\n",
    "        self.packages[package.name] = package\n",
    "    def total_size(self):\n",
    "        result = 0\n",
    "        for package in self.packages.values():\n",
    "            result += package.size\n",
    "        return result"
   ]
  },
  {
   "cell_type": "code",
   "execution_count": 35,
   "id": "662e539b",
   "metadata": {},
   "outputs": [
    {
     "data": {
      "text/plain": [
       "list"
      ]
     },
     "execution_count": 35,
     "metadata": {},
     "output_type": "execute_result"
    }
   ],
   "source": [
    "a = []\n",
    "type(a)"
   ]
  },
  {
   "cell_type": "code",
   "execution_count": 36,
   "id": "ff1c2b93",
   "metadata": {},
   "outputs": [
    {
     "name": "stdout",
     "output_type": "stream",
     "text": [
      "Help on list object:\n",
      "\n",
      "class list(object)\n",
      " |  list(iterable=(), /)\n",
      " |  \n",
      " |  Built-in mutable sequence.\n",
      " |  \n",
      " |  If no argument is given, the constructor creates a new empty list.\n",
      " |  The argument must be an iterable if specified.\n",
      " |  \n",
      " |  Methods defined here:\n",
      " |  \n",
      " |  __add__(self, value, /)\n",
      " |      Return self+value.\n",
      " |  \n",
      " |  __contains__(self, key, /)\n",
      " |      Return key in self.\n",
      " |  \n",
      " |  __delitem__(self, key, /)\n",
      " |      Delete self[key].\n",
      " |  \n",
      " |  __eq__(self, value, /)\n",
      " |      Return self==value.\n",
      " |  \n",
      " |  __ge__(self, value, /)\n",
      " |      Return self>=value.\n",
      " |  \n",
      " |  __getattribute__(self, name, /)\n",
      " |      Return getattr(self, name).\n",
      " |  \n",
      " |  __getitem__(...)\n",
      " |      x.__getitem__(y) <==> x[y]\n",
      " |  \n",
      " |  __gt__(self, value, /)\n",
      " |      Return self>value.\n",
      " |  \n",
      " |  __iadd__(self, value, /)\n",
      " |      Implement self+=value.\n",
      " |  \n",
      " |  __imul__(self, value, /)\n",
      " |      Implement self*=value.\n",
      " |  \n",
      " |  __init__(self, /, *args, **kwargs)\n",
      " |      Initialize self.  See help(type(self)) for accurate signature.\n",
      " |  \n",
      " |  __iter__(self, /)\n",
      " |      Implement iter(self).\n",
      " |  \n",
      " |  __le__(self, value, /)\n",
      " |      Return self<=value.\n",
      " |  \n",
      " |  __len__(self, /)\n",
      " |      Return len(self).\n",
      " |  \n",
      " |  __lt__(self, value, /)\n",
      " |      Return self<value.\n",
      " |  \n",
      " |  __mul__(self, value, /)\n",
      " |      Return self*value.\n",
      " |  \n",
      " |  __ne__(self, value, /)\n",
      " |      Return self!=value.\n",
      " |  \n",
      " |  __repr__(self, /)\n",
      " |      Return repr(self).\n",
      " |  \n",
      " |  __reversed__(self, /)\n",
      " |      Return a reverse iterator over the list.\n",
      " |  \n",
      " |  __rmul__(self, value, /)\n",
      " |      Return value*self.\n",
      " |  \n",
      " |  __setitem__(self, key, value, /)\n",
      " |      Set self[key] to value.\n",
      " |  \n",
      " |  __sizeof__(self, /)\n",
      " |      Return the size of the list in memory, in bytes.\n",
      " |  \n",
      " |  append(self, object, /)\n",
      " |      Append object to the end of the list.\n",
      " |  \n",
      " |  clear(self, /)\n",
      " |      Remove all items from list.\n",
      " |  \n",
      " |  copy(self, /)\n",
      " |      Return a shallow copy of the list.\n",
      " |  \n",
      " |  count(self, value, /)\n",
      " |      Return number of occurrences of value.\n",
      " |  \n",
      " |  extend(self, iterable, /)\n",
      " |      Extend list by appending elements from the iterable.\n",
      " |  \n",
      " |  index(self, value, start=0, stop=9223372036854775807, /)\n",
      " |      Return first index of value.\n",
      " |      \n",
      " |      Raises ValueError if the value is not present.\n",
      " |  \n",
      " |  insert(self, index, object, /)\n",
      " |      Insert object before index.\n",
      " |  \n",
      " |  pop(self, index=-1, /)\n",
      " |      Remove and return item at index (default last).\n",
      " |      \n",
      " |      Raises IndexError if list is empty or index is out of range.\n",
      " |  \n",
      " |  remove(self, value, /)\n",
      " |      Remove first occurrence of value.\n",
      " |      \n",
      " |      Raises ValueError if the value is not present.\n",
      " |  \n",
      " |  reverse(self, /)\n",
      " |      Reverse *IN PLACE*.\n",
      " |  \n",
      " |  sort(self, /, *, key=None, reverse=False)\n",
      " |      Sort the list in ascending order and return None.\n",
      " |      \n",
      " |      The sort is in-place (i.e. the list itself is modified) and stable (i.e. the\n",
      " |      order of two equal elements is maintained).\n",
      " |      \n",
      " |      If a key function is given, apply it once to each list item and sort them,\n",
      " |      ascending or descending, according to their function values.\n",
      " |      \n",
      " |      The reverse flag can be set to sort in descending order.\n",
      " |  \n",
      " |  ----------------------------------------------------------------------\n",
      " |  Class methods defined here:\n",
      " |  \n",
      " |  __class_getitem__(...) from builtins.type\n",
      " |      See PEP 585\n",
      " |  \n",
      " |  ----------------------------------------------------------------------\n",
      " |  Static methods defined here:\n",
      " |  \n",
      " |  __new__(*args, **kwargs) from builtins.type\n",
      " |      Create and return a new object.  See help(type) for accurate signature.\n",
      " |  \n",
      " |  ----------------------------------------------------------------------\n",
      " |  Data and other attributes defined here:\n",
      " |  \n",
      " |  __hash__ = None\n",
      "\n"
     ]
    }
   ],
   "source": [
    "help(a)"
   ]
  }
 ],
 "metadata": {
  "kernelspec": {
   "display_name": "Python 3 (ipykernel)",
   "language": "python",
   "name": "python3"
  },
  "language_info": {
   "codemirror_mode": {
    "name": "ipython",
    "version": 3
   },
   "file_extension": ".py",
   "mimetype": "text/x-python",
   "name": "python",
   "nbconvert_exporter": "python",
   "pygments_lexer": "ipython3",
   "version": "3.11.4"
  }
 },
 "nbformat": 4,
 "nbformat_minor": 5
}
