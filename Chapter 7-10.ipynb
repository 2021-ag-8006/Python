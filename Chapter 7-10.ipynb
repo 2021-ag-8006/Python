{
 "cells": [
  {
   "cell_type": "markdown",
   "id": "86129084",
   "metadata": {},
   "source": [
    "# chapter 7"
   ]
  },
  {
   "cell_type": "code",
   "execution_count": 1,
   "id": "16afdec1",
   "metadata": {},
   "outputs": [
    {
     "data": {
      "text/plain": [
       "'Hello\\nWorld!'"
      ]
     },
     "execution_count": 1,
     "metadata": {},
     "output_type": "execute_result"
    }
   ],
   "source": [
    ">>> stuff = 'Hello\\nWorld!'\n",
    ">>> stuff"
   ]
  },
  {
   "cell_type": "code",
   "execution_count": 2,
   "id": "6bd962d0",
   "metadata": {},
   "outputs": [
    {
     "name": "stdout",
     "output_type": "stream",
     "text": [
      "Hello\n",
      "World!\n"
     ]
    }
   ],
   "source": [
    ">>> print(stuff)"
   ]
  },
  {
   "cell_type": "code",
   "execution_count": 3,
   "id": "bc1e9b7f",
   "metadata": {},
   "outputs": [
    {
     "name": "stdout",
     "output_type": "stream",
     "text": [
      "X\n",
      "Y\n"
     ]
    }
   ],
   "source": [
    ">>> stuff = 'X\\nY'\n",
    ">>> print(stuff)"
   ]
  },
  {
   "cell_type": "code",
   "execution_count": 4,
   "id": "7b63ecc3",
   "metadata": {},
   "outputs": [
    {
     "data": {
      "text/plain": [
       "3"
      ]
     },
     "execution_count": 4,
     "metadata": {},
     "output_type": "execute_result"
    }
   ],
   "source": [
    ">>> len(stuff)"
   ]
  },
  {
   "cell_type": "code",
   "execution_count": 18,
   "id": "6da5b16b",
   "metadata": {},
   "outputs": [
    {
     "name": "stdout",
     "output_type": "stream",
     "text": [
      "Now the file has more content!\n"
     ]
    }
   ],
   "source": [
    "f = open(\"demofile2.txt\", \"a\")\n",
    "f.write(\"Now the file has more content!\")\n",
    "f.close()\n",
    "\n",
    "#open and read the file after the appending:\n",
    "f = open(\"demofile2.txt\", \"r\")\n",
    "print(f.read())"
   ]
  },
  {
   "cell_type": "code",
   "execution_count": 19,
   "id": "c46996f1",
   "metadata": {},
   "outputs": [
    {
     "name": "stdout",
     "output_type": "stream",
     "text": [
      "Woops! I have deleted the content!\n"
     ]
    }
   ],
   "source": [
    "f = open(\"demofile3.txt\", \"w\")\n",
    "f.write(\"Woops! I have deleted the content!\")\n",
    "f.close()\n",
    "\n",
    "#open and read the file after the overwriting:\n",
    "f = open(\"demofile3.txt\", \"r\")\n",
    "print(f.read())"
   ]
  },
  {
   "cell_type": "code",
   "execution_count": 112,
   "id": "5f013e81",
   "metadata": {},
   "outputs": [
    {
     "name": "stdout",
     "output_type": "stream",
     "text": [
      "There is some more content!\n"
     ]
    }
   ],
   "source": [
    "f = open(\"demofile3.txt\", \"w\")\n",
    "f.write(\"There is some more content!\")\n",
    "f.close()\n",
    "\n",
    "#open and read the file after the appending:\n",
    "f = open(\"demofile3.txt\", \"r\")\n",
    "print(f.read())"
   ]
  },
  {
   "cell_type": "code",
   "execution_count": 124,
   "id": "f705e60a",
   "metadata": {},
   "outputs": [
    {
     "name": "stdout",
     "output_type": "stream",
     "text": [
      "There is some more content!\n"
     ]
    }
   ],
   "source": [
    "f = open(\"myfile.txt2\", \"a\")\n",
    "f.write(\"Hello! its a jupyter notebook\")\n",
    "f.close()\n",
    "\n",
    "#open and read the file after the appending:\n",
    "f = open(\"demofile3.txt\", \"r\")\n",
    "print(f.read())"
   ]
  },
  {
   "cell_type": "code",
   "execution_count": 22,
   "id": "462c0546",
   "metadata": {},
   "outputs": [
    {
     "name": "stdout",
     "output_type": "stream",
     "text": [
      "The file does not exist\n"
     ]
    }
   ],
   "source": [
    "import os\n",
    "if os.path.exists(\"demofile.txt\"):\n",
    "  os.remove(\"demofile.txt\")\n",
    "else:\n",
    "  print(\"The file does not exist\")"
   ]
  },
  {
   "cell_type": "markdown",
   "id": "7aa23055",
   "metadata": {},
   "source": [
    "# chapter 8"
   ]
  },
  {
   "cell_type": "code",
   "execution_count": 25,
   "id": "b2ee584f",
   "metadata": {},
   "outputs": [
    {
     "name": "stdout",
     "output_type": "stream",
     "text": [
      "4\n"
     ]
    }
   ],
   "source": [
    "\n",
    ">>> x = 2\n",
    ">>> x = 4\n",
    ">>> print(x)"
   ]
  },
  {
   "cell_type": "code",
   "execution_count": 26,
   "id": "674224e3",
   "metadata": {},
   "outputs": [
    {
     "name": "stdout",
     "output_type": "stream",
     "text": [
      "[1, 24, 76]\n"
     ]
    }
   ],
   "source": [
    ">>> print([1, 24, 76])"
   ]
  },
  {
   "cell_type": "code",
   "execution_count": 27,
   "id": "a36d1ac0",
   "metadata": {},
   "outputs": [
    {
     "name": "stdout",
     "output_type": "stream",
     "text": [
      "['red', 'yellow', 'blue']\n"
     ]
    }
   ],
   "source": [
    ">>> print(['red', 'yellow', \n",
    "'blue'])"
   ]
  },
  {
   "cell_type": "code",
   "execution_count": 28,
   "id": "801944f6",
   "metadata": {},
   "outputs": [
    {
     "name": "stdout",
     "output_type": "stream",
     "text": [
      "['red', 24, 98.6]\n"
     ]
    }
   ],
   "source": [
    ">>> print(['red', 24, 98.6])"
   ]
  },
  {
   "cell_type": "code",
   "execution_count": 29,
   "id": "bf8fd6fb",
   "metadata": {},
   "outputs": [
    {
     "name": "stdout",
     "output_type": "stream",
     "text": [
      "[1, [5, 6], 7]\n"
     ]
    }
   ],
   "source": [
    ">>> print([ 1, [5, 6], 7])"
   ]
  },
  {
   "cell_type": "code",
   "execution_count": 30,
   "id": "15f42585",
   "metadata": {},
   "outputs": [
    {
     "name": "stdout",
     "output_type": "stream",
     "text": [
      "[]\n"
     ]
    }
   ],
   "source": [
    ">>> print([])"
   ]
  },
  {
   "cell_type": "code",
   "execution_count": 32,
   "id": "ff081927",
   "metadata": {},
   "outputs": [
    {
     "name": "stdout",
     "output_type": "stream",
     "text": [
      "5\n",
      "4\n",
      "3\n",
      "2\n",
      "1\n",
      "Blastoff!\n"
     ]
    }
   ],
   "source": [
    "for i in [5, 4, 3, 2, 1] :\n",
    "    print(i)\n",
    "print('Blastoff!')"
   ]
  },
  {
   "cell_type": "code",
   "execution_count": 33,
   "id": "e089fdef",
   "metadata": {},
   "outputs": [
    {
     "name": "stdout",
     "output_type": "stream",
     "text": [
      "Happy New Year: Joseph\n",
      "Happy New Year: Glenn\n",
      "Happy New Year: Sally\n",
      "Done!\n"
     ]
    }
   ],
   "source": [
    "friends = ['Joseph', 'Glenn', 'Sally']\n",
    "for friend in friends :\n",
    "    print('Happy New Year:', friend)\n",
    "print('Done!')"
   ]
  },
  {
   "cell_type": "code",
   "execution_count": 34,
   "id": "895177f1",
   "metadata": {},
   "outputs": [
    {
     "name": "stdout",
     "output_type": "stream",
     "text": [
      "Glenn\n"
     ]
    }
   ],
   "source": [
    ">>> friends = [ 'Joseph', 'Glenn', 'Sally' ]\n",
    ">>> print(friends[1])"
   ]
  },
  {
   "cell_type": "code",
   "execution_count": 36,
   "id": "7a5ac3fa",
   "metadata": {},
   "outputs": [
    {
     "name": "stdout",
     "output_type": "stream",
     "text": [
      "banana\n"
     ]
    }
   ],
   "source": [
    ">>> fruit = 'Banana'\n",
    ">>> x = fruit.lower()\n",
    ">>> print(x)"
   ]
  },
  {
   "cell_type": "code",
   "execution_count": 37,
   "id": "a6bab068",
   "metadata": {},
   "outputs": [
    {
     "name": "stdout",
     "output_type": "stream",
     "text": [
      "[2, 14, 26, 41, 63]\n"
     ]
    }
   ],
   "source": [
    ">>> lotto = [2, 14, 26, 41, 63]\n",
    ">>> print(lotto)"
   ]
  },
  {
   "cell_type": "code",
   "execution_count": 38,
   "id": "00065e02",
   "metadata": {},
   "outputs": [
    {
     "name": "stdout",
     "output_type": "stream",
     "text": [
      "[2, 14, 28, 41, 63]\n"
     ]
    }
   ],
   "source": [
    ">>> lotto[2] = 28\n",
    ">>> print(lotto)"
   ]
  },
  {
   "cell_type": "code",
   "execution_count": 39,
   "id": "fb0a4213",
   "metadata": {},
   "outputs": [
    {
     "name": "stdout",
     "output_type": "stream",
     "text": [
      "9\n"
     ]
    }
   ],
   "source": [
    ">>> greet = 'Hello Bob'\n",
    ">>> print(len(greet))"
   ]
  },
  {
   "cell_type": "code",
   "execution_count": 40,
   "id": "750af0b2",
   "metadata": {},
   "outputs": [
    {
     "name": "stdout",
     "output_type": "stream",
     "text": [
      "4\n"
     ]
    }
   ],
   "source": [
    ">>> x = [ 1, 2, 'joe', 99]\n",
    ">>> print(len(x))"
   ]
  },
  {
   "cell_type": "code",
   "execution_count": 41,
   "id": "8a5cbe3c",
   "metadata": {},
   "outputs": [
    {
     "name": "stdout",
     "output_type": "stream",
     "text": [
      "3\n"
     ]
    }
   ],
   "source": [
    ">>> friends = ['Joseph', 'Glenn', 'Sally']\n",
    ">>> print(len(friends))"
   ]
  },
  {
   "cell_type": "code",
   "execution_count": 42,
   "id": "c9ea1583",
   "metadata": {},
   "outputs": [
    {
     "name": "stdout",
     "output_type": "stream",
     "text": [
      "range(0, 3)\n"
     ]
    }
   ],
   "source": [
    ">>> print(range(len(friends)))"
   ]
  },
  {
   "cell_type": "code",
   "execution_count": 45,
   "id": "4c1cdd36",
   "metadata": {},
   "outputs": [
    {
     "name": "stdout",
     "output_type": "stream",
     "text": [
      "[1, 2, 3, 4, 5, 6]\n"
     ]
    }
   ],
   "source": [
    ">>> a = [1, 2, 3]\n",
    ">>> b = [4, 5, 6]\n",
    ">>> c = a + b\n",
    ">>> print(c)"
   ]
  },
  {
   "cell_type": "code",
   "execution_count": 46,
   "id": "f3837ef2",
   "metadata": {},
   "outputs": [
    {
     "name": "stdout",
     "output_type": "stream",
     "text": [
      "[1, 2, 3]\n"
     ]
    }
   ],
   "source": [
    ">>> print(a)"
   ]
  },
  {
   "cell_type": "code",
   "execution_count": 48,
   "id": "19fcef3a",
   "metadata": {},
   "outputs": [
    {
     "name": "stdout",
     "output_type": "stream",
     "text": [
      "['book', 99]\n"
     ]
    }
   ],
   "source": [
    ">>> stuff = list()\n",
    ">>> stuff.append('book')\n",
    ">>> stuff.append(99)\n",
    ">>> print(stuff)"
   ]
  },
  {
   "cell_type": "code",
   "execution_count": 49,
   "id": "8bf59195",
   "metadata": {},
   "outputs": [
    {
     "name": "stdout",
     "output_type": "stream",
     "text": [
      "['book', 99, 'cookie']\n"
     ]
    }
   ],
   "source": [
    ">>> stuff.append('cookie')\n",
    ">>> print(stuff)"
   ]
  },
  {
   "cell_type": "code",
   "execution_count": 50,
   "id": "c3ea1f9d",
   "metadata": {},
   "outputs": [
    {
     "data": {
      "text/plain": [
       "True"
      ]
     },
     "execution_count": 50,
     "metadata": {},
     "output_type": "execute_result"
    }
   ],
   "source": [
    ">>> some = [1, 9, 21, 10, 16]\n",
    ">>> 9 in some"
   ]
  },
  {
   "cell_type": "code",
   "execution_count": 52,
   "id": "0a3c86bf",
   "metadata": {},
   "outputs": [
    {
     "name": "stdout",
     "output_type": "stream",
     "text": [
      "['Glenn', 'Joseph', 'Sally']\n"
     ]
    }
   ],
   "source": [
    ">>> friends = [ 'Joseph', 'Glenn', 'Sally' ]\n",
    ">>> friends.sort()\n",
    ">>> print(friends)"
   ]
  },
  {
   "cell_type": "code",
   "execution_count": 53,
   "id": "0080c2b0",
   "metadata": {},
   "outputs": [
    {
     "name": "stdout",
     "output_type": "stream",
     "text": [
      "6\n"
     ]
    }
   ],
   "source": [
    ">>> nums = [3, 41, 12, 9, 74, 15]\n",
    ">>> print(len(nums))\n"
   ]
  },
  {
   "cell_type": "code",
   "execution_count": 54,
   "id": "270f73b6",
   "metadata": {},
   "outputs": [
    {
     "name": "stdout",
     "output_type": "stream",
     "text": [
      "25.666666666666668\n"
     ]
    }
   ],
   "source": [
    ">>> print(sum(nums)/len(nums))"
   ]
  },
  {
   "cell_type": "code",
   "execution_count": 55,
   "id": "e02027e2",
   "metadata": {},
   "outputs": [
    {
     "name": "stdout",
     "output_type": "stream",
     "text": [
      "Enter a number: 2\n",
      "Enter a number: 3\n",
      "Enter a number: 5\n",
      "Enter a number: 1\n",
      "Enter a number: done\n",
      "Average: 2.75\n"
     ]
    }
   ],
   "source": [
    "total = 0\n",
    "count = 0\n",
    "while True :\n",
    "    inp = input('Enter a number: ')\n",
    "    if inp == 'done' : break\n",
    "    value = float(inp)\n",
    "    total = total + value \n",
    "    count = count + 1\n",
    "average = total / count\n",
    "print('Average:', average)"
   ]
  },
  {
   "cell_type": "code",
   "execution_count": 56,
   "id": "4773069e",
   "metadata": {},
   "outputs": [
    {
     "name": "stdout",
     "output_type": "stream",
     "text": [
      "['With', 'three', 'words']\n"
     ]
    }
   ],
   "source": [
    ">>> abc = 'With three words'\n",
    ">>> stuff = abc.split()\n",
    ">>> print(stuff)"
   ]
  },
  {
   "cell_type": "code",
   "execution_count": 57,
   "id": "2b7208fd",
   "metadata": {},
   "outputs": [
    {
     "name": "stdout",
     "output_type": "stream",
     "text": [
      "3\n"
     ]
    }
   ],
   "source": [
    ">>> print(len(stuff))"
   ]
  },
  {
   "cell_type": "code",
   "execution_count": 58,
   "id": "fc0791a5",
   "metadata": {},
   "outputs": [
    {
     "name": "stdout",
     "output_type": "stream",
     "text": [
      "['A', 'lot', 'of', 'spaces']\n"
     ]
    }
   ],
   "source": [
    ">>> line = 'A lot of spaces'\n",
    ">>> etc = line.split()\n",
    ">>> print(etc)"
   ]
  },
  {
   "cell_type": "code",
   "execution_count": 60,
   "id": "91c34bf9",
   "metadata": {},
   "outputs": [
    {
     "name": "stdout",
     "output_type": "stream",
     "text": [
      "['From', 'stephen.marquard@uct.ac.za', 'Sat', 'Jan', '5', '09:14:16', '2008']\n"
     ]
    }
   ],
   "source": [
    ">>> line = 'From stephen.marquard@uct.ac.za Sat Jan 5 09:14:16 2008'\n",
    ">>> words = line.split()\n",
    ">>> print(words)"
   ]
  },
  {
   "cell_type": "code",
   "execution_count": 62,
   "id": "40aac774",
   "metadata": {},
   "outputs": [
    {
     "name": "stdout",
     "output_type": "stream",
     "text": [
      "uct.ac.za\n"
     ]
    }
   ],
   "source": [
    "words = line.split()\n",
    "email = words[1]\n",
    "pieces = email.split('@')\n",
    "print(pieces[1])"
   ]
  },
  {
   "cell_type": "markdown",
   "id": "922bf219",
   "metadata": {},
   "source": [
    "# chapter 9"
   ]
  },
  {
   "cell_type": "code",
   "execution_count": 63,
   "id": "6a595e63",
   "metadata": {},
   "outputs": [
    {
     "name": "stdout",
     "output_type": "stream",
     "text": [
      "{'money': 12, 'candy': 3, 'tissues': 75}\n"
     ]
    }
   ],
   "source": [
    ">>> purse = dict()\n",
    ">>> purse['money'] = 12\n",
    ">>> purse['candy'] = 3\n",
    ">>> purse['tissues'] = 75\n",
    ">>> print(purse)\n"
   ]
  },
  {
   "cell_type": "code",
   "execution_count": 64,
   "id": "329d5d5a",
   "metadata": {},
   "outputs": [
    {
     "name": "stdout",
     "output_type": "stream",
     "text": [
      "3\n"
     ]
    }
   ],
   "source": [
    ">>> print(purse['candy'])"
   ]
  },
  {
   "cell_type": "code",
   "execution_count": 65,
   "id": "bef7f899",
   "metadata": {},
   "outputs": [
    {
     "name": "stdout",
     "output_type": "stream",
     "text": [
      "{'money': 12, 'candy': 5, 'tissues': 75}\n"
     ]
    }
   ],
   "source": [
    ">>> purse['candy'] = purse['candy'] + 2\n",
    ">>> print(purse)"
   ]
  },
  {
   "cell_type": "code",
   "execution_count": 66,
   "id": "fa14252a",
   "metadata": {},
   "outputs": [
    {
     "name": "stdout",
     "output_type": "stream",
     "text": [
      "[21, 183]\n"
     ]
    }
   ],
   "source": [
    ">>> lst = list()\n",
    ">>> lst.append(21)\n",
    ">>> lst.append(183)\n",
    ">>> print(lst)"
   ]
  },
  {
   "cell_type": "code",
   "execution_count": 67,
   "id": "45752ee4",
   "metadata": {},
   "outputs": [
    {
     "name": "stdout",
     "output_type": "stream",
     "text": [
      "[23, 183]\n"
     ]
    }
   ],
   "source": [
    ">>> lst[0] = 23\n",
    ">>> print(lst)"
   ]
  },
  {
   "cell_type": "code",
   "execution_count": 70,
   "id": "a6a36d7d",
   "metadata": {},
   "outputs": [
    {
     "name": "stdout",
     "output_type": "stream",
     "text": [
      "[21, 183]\n"
     ]
    }
   ],
   "source": [
    ">>> lst = list()\n",
    ">>> lst.append(21)\n",
    ">>> lst.append(183)\n",
    ">>> print(lst)"
   ]
  },
  {
   "cell_type": "code",
   "execution_count": 72,
   "id": "7fcc1c46",
   "metadata": {},
   "outputs": [
    {
     "name": "stdout",
     "output_type": "stream",
     "text": [
      "{'age': 21, 'course': 182}\n"
     ]
    }
   ],
   "source": [
    ">>> ddd = dict()\n",
    ">>> ddd['age'] = 21\n",
    ">>> ddd['course'] = 182\n",
    ">>> print(ddd)"
   ]
  },
  {
   "cell_type": "code",
   "execution_count": 73,
   "id": "f437444a",
   "metadata": {},
   "outputs": [
    {
     "name": "stdout",
     "output_type": "stream",
     "text": [
      "{'age': 23, 'course': 182}\n"
     ]
    }
   ],
   "source": [
    ">>> ddd['age'] = 23\n",
    ">>> print(ddd)\n"
   ]
  },
  {
   "cell_type": "code",
   "execution_count": 74,
   "id": "45035fb4",
   "metadata": {},
   "outputs": [
    {
     "name": "stdout",
     "output_type": "stream",
     "text": [
      "{'chuck': 1, 'fred': 42, 'jan': 100}\n"
     ]
    }
   ],
   "source": [
    ">>> jjj = { 'chuck' : 1 , 'fred' : 42, 'jan': 100}\n",
    ">>> print(jjj)\n"
   ]
  },
  {
   "cell_type": "code",
   "execution_count": 75,
   "id": "be7b8cd0",
   "metadata": {},
   "outputs": [
    {
     "name": "stdout",
     "output_type": "stream",
     "text": [
      "{}\n"
     ]
    }
   ],
   "source": [
    ">>> ooo = { }\n",
    ">>> print(ooo)"
   ]
  },
  {
   "cell_type": "code",
   "execution_count": 76,
   "id": "591f183f",
   "metadata": {},
   "outputs": [
    {
     "name": "stdout",
     "output_type": "stream",
     "text": [
      "{'csev': 1, 'cwen': 1}\n"
     ]
    }
   ],
   "source": [
    ">>> ccc = dict()\n",
    ">>> ccc['csev'] = 1\n",
    ">>> ccc['cwen'] = 1\n",
    ">>> print(ccc)"
   ]
  },
  {
   "cell_type": "code",
   "execution_count": 77,
   "id": "fd31c717",
   "metadata": {},
   "outputs": [
    {
     "name": "stdout",
     "output_type": "stream",
     "text": [
      "{'csev': 1, 'cwen': 2}\n"
     ]
    }
   ],
   "source": [
    ">>> ccc['cwen'] = ccc['cwen'] + 1\n",
    ">>> print(ccc)"
   ]
  },
  {
   "cell_type": "code",
   "execution_count": 78,
   "id": "fd20046c",
   "metadata": {},
   "outputs": [
    {
     "name": "stdout",
     "output_type": "stream",
     "text": [
      "{'csev': 1, 'cwen': 2, 'zqian': 1}\n"
     ]
    }
   ],
   "source": [
    "counts = dict()\n",
    "names = ['csev', 'cwen', 'csev', 'zqian', 'cwen']\n",
    "for name in names :\n",
    "    if name not in counts: \n",
    "        counts[name] = 1\n",
    "else :\n",
    "    counts[name] = counts[name] + 1\n",
    "print(counts)"
   ]
  },
  {
   "cell_type": "code",
   "execution_count": 81,
   "id": "2dc4cbd1",
   "metadata": {},
   "outputs": [
    {
     "name": "stdout",
     "output_type": "stream",
     "text": [
      "Enter a line of text:\n",
      "I love python\n",
      "Words: ['I', 'love', 'python']\n",
      "Counting...\n",
      "Counts {'I': 1, 'love': 1, 'python': 1}\n"
     ]
    }
   ],
   "source": [
    "counts = dict()\n",
    "print('Enter a line of text:')\n",
    "line = input('')\n",
    "words = line.split()\n",
    "print('Words:', words)\n",
    "print('Counting...')\n",
    "for word in words:\n",
    "    counts[word]= counts.get(word,0) + 1\n",
    "    \n",
    "print('Counts', counts)\n",
    "    "
   ]
  },
  {
   "cell_type": "code",
   "execution_count": 85,
   "id": "c180e26b",
   "metadata": {},
   "outputs": [
    {
     "name": "stdout",
     "output_type": "stream",
     "text": [
      "chuck 1\n",
      "fred 42\n",
      "jan 100\n"
     ]
    }
   ],
   "source": [
    ">>> counts = { 'chuck' : 1 , 'fred' : 42, 'jan': 100}\n",
    ">>> for key in counts:\n",
    "...     print(key, counts[key])\n",
    "... "
   ]
  },
  {
   "cell_type": "code",
   "execution_count": 86,
   "id": "e2979178",
   "metadata": {},
   "outputs": [
    {
     "name": "stdout",
     "output_type": "stream",
     "text": [
      "['chuck', 'fred', 'jan']\n"
     ]
    }
   ],
   "source": [
    ">>> jjj = { 'chuck' : 1 , 'fred' : 42, 'jan': 100}\n",
    ">>> print(list(jjj))"
   ]
  },
  {
   "cell_type": "code",
   "execution_count": 87,
   "id": "ff00ea62",
   "metadata": {},
   "outputs": [
    {
     "name": "stdout",
     "output_type": "stream",
     "text": [
      "dict_values([1, 42, 100])\n"
     ]
    }
   ],
   "source": [
    ">>> print(jjj.values())"
   ]
  },
  {
   "cell_type": "code",
   "execution_count": 88,
   "id": "746d3953",
   "metadata": {},
   "outputs": [
    {
     "name": "stdout",
     "output_type": "stream",
     "text": [
      "chuck 1\n",
      "fred 42\n",
      "jan 100\n"
     ]
    }
   ],
   "source": [
    "jjj = { 'chuck' : 1 , 'fred' : 42, 'jan': 100}\n",
    "for aaa,bbb in jjj.items() :\n",
    "    print(aaa, bbb)"
   ]
  },
  {
   "cell_type": "markdown",
   "id": "a951861d",
   "metadata": {},
   "source": [
    "# chapter 10 "
   ]
  },
  {
   "cell_type": "code",
   "execution_count": 89,
   "id": "45ce9dda",
   "metadata": {},
   "outputs": [
    {
     "name": "stdout",
     "output_type": "stream",
     "text": [
      "Joseph\n"
     ]
    }
   ],
   "source": [
    ">>> x = ('Glenn', 'Sally', 'Joseph')\n",
    ">>> print(x[2])"
   ]
  },
  {
   "cell_type": "code",
   "execution_count": 90,
   "id": "42fd9ab0",
   "metadata": {},
   "outputs": [
    {
     "name": "stdout",
     "output_type": "stream",
     "text": [
      "(1, 9, 2)\n"
     ]
    }
   ],
   "source": [
    ">>> y = ( 1, 9, 2 )\n",
    ">>> print(y)"
   ]
  },
  {
   "cell_type": "code",
   "execution_count": 91,
   "id": "9b5c32b7",
   "metadata": {},
   "outputs": [
    {
     "name": "stdout",
     "output_type": "stream",
     "text": [
      "9\n"
     ]
    }
   ],
   "source": [
    ">>> print(max(y))"
   ]
  },
  {
   "cell_type": "code",
   "execution_count": 92,
   "id": "0fb3c287",
   "metadata": {},
   "outputs": [
    {
     "name": "stdout",
     "output_type": "stream",
     "text": [
      "1\n",
      "9\n",
      "2\n"
     ]
    }
   ],
   "source": [
    ">>> for iter in y:\n",
    "...     print(iter)\n",
    "... \n"
   ]
  },
  {
   "cell_type": "code",
   "execution_count": 93,
   "id": "c4da6c04",
   "metadata": {},
   "outputs": [
    {
     "name": "stdout",
     "output_type": "stream",
     "text": [
      "[9, 8, 6]\n"
     ]
    }
   ],
   "source": [
    ">>> x = [9, 8, 7]\n",
    ">>> x[2] = 6\n",
    ">>> print(x)"
   ]
  },
  {
   "cell_type": "code",
   "execution_count": 96,
   "id": "93ad1523",
   "metadata": {},
   "outputs": [
    {
     "name": "stdout",
     "output_type": "stream",
     "text": [
      "fred\n"
     ]
    }
   ],
   "source": [
    ">>> (x, y) = (4, 'fred')\n",
    ">>> print(y)"
   ]
  },
  {
   "cell_type": "code",
   "execution_count": 97,
   "id": "3f61c471",
   "metadata": {},
   "outputs": [
    {
     "name": "stdout",
     "output_type": "stream",
     "text": [
      "99\n"
     ]
    }
   ],
   "source": [
    ">>> (a, b) = (99, 98)\n",
    ">>> print(a)"
   ]
  },
  {
   "cell_type": "code",
   "execution_count": 98,
   "id": "08df26c4",
   "metadata": {},
   "outputs": [
    {
     "name": "stdout",
     "output_type": "stream",
     "text": [
      "csev 2\n",
      "cwen 4\n"
     ]
    }
   ],
   "source": [
    ">>> d = dict()\n",
    ">>> d['csev'] = 2\n",
    ">>> d['cwen'] = 4\n",
    ">>> for (k,v) in d.items(): \n",
    "...     print(k, v)\n",
    "..."
   ]
  },
  {
   "cell_type": "code",
   "execution_count": 100,
   "id": "c714f231",
   "metadata": {},
   "outputs": [
    {
     "data": {
      "text/plain": [
       "dict_items([('a', 10), ('b', 1), ('c', 22)])"
      ]
     },
     "execution_count": 100,
     "metadata": {},
     "output_type": "execute_result"
    }
   ],
   "source": [
    ">>> d = {'a':10, 'b':1, 'c':22}\n",
    ">>> d.items()"
   ]
  },
  {
   "cell_type": "code",
   "execution_count": 101,
   "id": "02ceffa2",
   "metadata": {},
   "outputs": [
    {
     "data": {
      "text/plain": [
       "[('a', 10), ('b', 1), ('c', 22)]"
      ]
     },
     "execution_count": 101,
     "metadata": {},
     "output_type": "execute_result"
    }
   ],
   "source": [
    ">>> d = {'a':10, 'b':1, 'c':22}\n",
    ">>> t = sorted(d.items())\n",
    ">>> t"
   ]
  },
  {
   "cell_type": "code",
   "execution_count": 102,
   "id": "416dedc5",
   "metadata": {},
   "outputs": [
    {
     "name": "stdout",
     "output_type": "stream",
     "text": [
      "a 10\n",
      "b 1\n",
      "c 22\n"
     ]
    }
   ],
   "source": [
    ">>> for k, v in sorted(d.items()):\n",
    "...    print(k, v)\n",
    "..."
   ]
  },
  {
   "cell_type": "code",
   "execution_count": 103,
   "id": "b561b4e1",
   "metadata": {},
   "outputs": [],
   "source": [
    ">>> c = {'a':10, 'b':1, 'c':22}\n",
    ">>> tmp = list()\n",
    ">>> for k, v in c.items() :\n",
    "...     tmp.append( (v, k) )\n",
    "..."
   ]
  },
  {
   "cell_type": "code",
   "execution_count": 104,
   "id": "2bc7663c",
   "metadata": {},
   "outputs": [
    {
     "name": "stdout",
     "output_type": "stream",
     "text": [
      "[(10, 'a'), (1, 'b'), (22, 'c')]\n"
     ]
    }
   ],
   "source": [
    ">>> print(tmp)"
   ]
  },
  {
   "cell_type": "code",
   "execution_count": 105,
   "id": "45aa33a1",
   "metadata": {},
   "outputs": [
    {
     "name": "stdout",
     "output_type": "stream",
     "text": [
      "[(22, 'c'), (10, 'a'), (1, 'b')]\n"
     ]
    }
   ],
   "source": [
    ">>> tmp = sorted(tmp, reverse=True)\n",
    ">>> print(tmp)"
   ]
  },
  {
   "cell_type": "code",
   "execution_count": 107,
   "id": "b9d27173",
   "metadata": {},
   "outputs": [
    {
     "name": "stdout",
     "output_type": "stream",
     "text": [
      "[(1, 'b'), (10, 'a'), (22, 'c')]\n"
     ]
    }
   ],
   "source": [
    ">>> c = {'a':10, 'b':1, 'c':22}\n",
    ">>> print( sorted( [ (v,k) for k,v in c.items() ] ) )\n",
    "\n",
    "   "
   ]
  }
 ],
 "metadata": {
  "kernelspec": {
   "display_name": "Python 3 (ipykernel)",
   "language": "python",
   "name": "python3"
  },
  "language_info": {
   "codemirror_mode": {
    "name": "ipython",
    "version": 3
   },
   "file_extension": ".py",
   "mimetype": "text/x-python",
   "name": "python",
   "nbconvert_exporter": "python",
   "pygments_lexer": "ipython3",
   "version": "3.11.4"
  }
 },
 "nbformat": 4,
 "nbformat_minor": 5
}
