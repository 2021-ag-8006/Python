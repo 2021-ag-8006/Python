{
 "cells": [
  {
   "cell_type": "markdown",
   "id": "f759ce2d",
   "metadata": {},
   "source": [
    "# chapter 2"
   ]
  },
  {
   "cell_type": "code",
   "execution_count": 1,
   "id": "b7f82551",
   "metadata": {},
   "outputs": [
    {
     "name": "stdout",
     "output_type": "stream",
     "text": [
      "4\n",
      "5280\n",
      "5.28\n"
     ]
    }
   ],
   "source": [
    ">>> xx = 2\n",
    ">>> xx = xx + 2\n",
    ">>> print(xx)\n",
    "\n",
    ">>> yy = 440 * 12\n",
    ">>> print(yy)\n",
    "\n",
    ">>> zz = yy / 1000\n",
    ">>> print(zz)"
   ]
  },
  {
   "cell_type": "code",
   "execution_count": 2,
   "id": "4f8abbf7",
   "metadata": {},
   "outputs": [
    {
     "name": "stdout",
     "output_type": "stream",
     "text": [
      "5\n",
      "hello there\n"
     ]
    }
   ],
   "source": [
    ">>> ddd = 1 + 4\n",
    ">>> print(ddd)\n",
    "\n",
    ">>> eee = 'hello ' + 'there'\n",
    ">>> print(eee)"
   ]
  },
  {
   "cell_type": "code",
   "execution_count": 10,
   "id": "cde7f4a1",
   "metadata": {},
   "outputs": [
    {
     "name": "stdout",
     "output_type": "stream",
     "text": [
      "199.0\n"
     ]
    }
   ],
   "source": [
    ">>> print(float(99) + 100)\n",
    ">>>"
   ]
  },
  {
   "cell_type": "code",
   "execution_count": 12,
   "id": "4c23212a",
   "metadata": {},
   "outputs": [
    {
     "name": "stdout",
     "output_type": "stream",
     "text": [
      "42.0\n"
     ]
    }
   ],
   "source": [
    ">>> i = 42\n",
    ">>> type(i)\n",
    "\n",
    ">>> f = float(i)\n",
    ">>> print(f)"
   ]
  },
  {
   "cell_type": "code",
   "execution_count": 13,
   "id": "25c6963a",
   "metadata": {},
   "outputs": [
    {
     "name": "stdout",
     "output_type": "stream",
     "text": [
      "5.0\n",
      "4.5\n",
      "0.99\n",
      "5.0\n",
      "0.99\n"
     ]
    }
   ],
   "source": [
    ">>> print(10 / 2)\n",
    ">>> print(9 / 2)\n",
    ">>> print(99 / 100)\n",
    ">>> print(10.0 / 2.0)\n",
    ">>> print(99.0 / 100.0)"
   ]
  },
  {
   "cell_type": "code",
   "execution_count": 14,
   "id": "6f9179b3",
   "metadata": {},
   "outputs": [
    {
     "name": "stdout",
     "output_type": "stream",
     "text": [
      "Europe floor?0\n",
      "US floor 1\n"
     ]
    }
   ],
   "source": [
    "inp = input('Europe floor?')\n",
    "usf = int(inp) + 1\n",
    "print('US floor', usf)"
   ]
  },
  {
   "cell_type": "markdown",
   "id": "f7a6eb35",
   "metadata": {},
   "source": [
    "# #chapter 3"
   ]
  },
  {
   "cell_type": "code",
   "execution_count": 17,
   "id": "8bc10e84",
   "metadata": {},
   "outputs": [
    {
     "name": "stdout",
     "output_type": "stream",
     "text": [
      "More than one\n",
      "Less than 100\n",
      "All done\n"
     ]
    }
   ],
   "source": [
    "x = 42\n",
    "if x > 1 :\n",
    "    print('More than one')\n",
    "    if x < 100 : \n",
    "        print('Less than 100')\n",
    "print('All done')"
   ]
  },
  {
   "cell_type": "code",
   "execution_count": 19,
   "id": "4a8751a8",
   "metadata": {},
   "outputs": [
    {
     "name": "stdout",
     "output_type": "stream",
     "text": [
      "Bigger\n",
      "All done\n"
     ]
    }
   ],
   "source": [
    "x = 4\n",
    "if x > 2 :\n",
    "    print('Bigger')\n",
    "\n",
    "else :\n",
    "    print('Smaller')\n",
    "\n",
    "print('All done')"
   ]
  },
  {
   "cell_type": "code",
   "execution_count": 20,
   "id": "3d7266f0",
   "metadata": {},
   "outputs": [
    {
     "name": "stdout",
     "output_type": "stream",
     "text": [
      "Medium\n",
      "All done\n"
     ]
    }
   ],
   "source": [
    "if x < 2 :\n",
    "    print('small')\n",
    "elif x < 10 :\n",
    "    print('Medium')\n",
    "else :\n",
    "    print('LARGE')\n",
    "print('All done')\n"
   ]
  },
  {
   "cell_type": "code",
   "execution_count": 22,
   "id": "bb55dac4",
   "metadata": {},
   "outputs": [
    {
     "name": "stdout",
     "output_type": "stream",
     "text": [
      "small\n",
      "All done\n"
     ]
    }
   ],
   "source": [
    "x = 1 \n",
    "if x < 2 :\n",
    "    print('small')\n",
    "elif x < 10 :\n",
    "    print('Medium')\n",
    "else :\n",
    "    print('LARGE')\n",
    "print('All done')"
   ]
  },
  {
   "cell_type": "code",
   "execution_count": 23,
   "id": "836a22a8",
   "metadata": {},
   "outputs": [
    {
     "name": "stdout",
     "output_type": "stream",
     "text": [
      "Two or more\n"
     ]
    }
   ],
   "source": [
    "x=50\n",
    "if x < 2 :\n",
    "    print('Below 2')\n",
    "elif x >= 2 : \n",
    "    print('Two or more')\n",
    "else :\n",
    "    print('Something else')"
   ]
  },
  {
   "cell_type": "code",
   "execution_count": 24,
   "id": "2885e382",
   "metadata": {},
   "outputs": [
    {
     "name": "stdout",
     "output_type": "stream",
     "text": [
      "First -1\n",
      "Second 123\n"
     ]
    }
   ],
   "source": [
    "astr = 'Hello Bob'\n",
    "try:\n",
    "    istr = int(astr)\n",
    "except:\n",
    "    istr = -1\n",
    "print('First', istr)\n",
    "\n",
    "astr = '123'\n",
    "try:\n",
    "    istr = int(astr)\n",
    "except:\n",
    "    istr = -1\n",
    "print('Second', istr)"
   ]
  },
  {
   "cell_type": "code",
   "execution_count": 25,
   "id": "6df2ee2b",
   "metadata": {},
   "outputs": [
    {
     "name": "stdout",
     "output_type": "stream",
     "text": [
      "Hello\n",
      "Done -1\n"
     ]
    }
   ],
   "source": [
    "astr = 'Bob'\n",
    "try:\n",
    "    print('Hello') \n",
    "    istr = int(astr)\n",
    "    print('There') \n",
    "except:\n",
    "    istr = -1\n",
    "print('Done', istr)"
   ]
  },
  {
   "cell_type": "markdown",
   "id": "ddf0b194",
   "metadata": {},
   "source": [
    "### chapter 4 "
   ]
  },
  {
   "cell_type": "code",
   "execution_count": 26,
   "id": "853d3441",
   "metadata": {},
   "outputs": [
    {
     "name": "stdout",
     "output_type": "stream",
     "text": [
      "w\n",
      " \n"
     ]
    }
   ],
   "source": [
    ">>> big = max('Hello world')\n",
    ">>> print(big)\n",
    "\n",
    ">>> tiny = min('Hello world')\n",
    ">>> print(tiny)\n",
    "\n",
    ">>>"
   ]
  },
  {
   "cell_type": "code",
   "execution_count": 31,
   "id": "c424685b",
   "metadata": {},
   "outputs": [
    {
     "name": "stdout",
     "output_type": "stream",
     "text": [
      "0.99\n"
     ]
    }
   ],
   "source": [
    ">>> print(float(99) / 100)\n",
    ">>>"
   ]
  },
  {
   "cell_type": "code",
   "execution_count": 36,
   "id": "3767988c",
   "metadata": {},
   "outputs": [
    {
     "name": "stdout",
     "output_type": "stream",
     "text": [
      "Hello\n",
      "Yo\n",
      "7\n"
     ]
    }
   ],
   "source": [
    "x = 5\n",
    "print('Hello')\n",
    "def print_lyrics():\n",
    "    print(\"I'm a lumberjack, and I'm okay.\")\n",
    "    print('I sleep all night and I work all day.')\n",
    "\n",
    "print('Yo')\n",
    "x = x + 2\n",
    "print(x)"
   ]
  },
  {
   "cell_type": "code",
   "execution_count": 37,
   "id": "d2971572",
   "metadata": {},
   "outputs": [
    {
     "name": "stdout",
     "output_type": "stream",
     "text": [
      "8\n"
     ]
    }
   ],
   "source": [
    "def addtwo(a, b):\n",
    "    added = a + b\n",
    "    return added\n",
    "\n",
    "x = addtwo(3, 5)\n",
    "print(x)"
   ]
  },
  {
   "cell_type": "markdown",
   "id": "34d3fd76",
   "metadata": {},
   "source": [
    "# chapter 5"
   ]
  },
  {
   "cell_type": "code",
   "execution_count": 38,
   "id": "2162d0a3",
   "metadata": {},
   "outputs": [
    {
     "ename": "SyntaxError",
     "evalue": "invalid character '–' (U+2013) (2780503644.py, line 4)",
     "output_type": "error",
     "traceback": [
      "\u001b[1;36m  Cell \u001b[1;32mIn[38], line 4\u001b[1;36m\u001b[0m\n\u001b[1;33m    n = n – 1\u001b[0m\n\u001b[1;37m          ^\u001b[0m\n\u001b[1;31mSyntaxError\u001b[0m\u001b[1;31m:\u001b[0m invalid character '–' (U+2013)\n"
     ]
    }
   ],
   "source": [
    "n = 5\n",
    "while n > 0 :\n",
    "    print(n)\n",
    "    n = n – 1\n",
    "print('Blastoff!')\n",
    "print(n)"
   ]
  },
  {
   "cell_type": "code",
   "execution_count": 39,
   "id": "f165b61f",
   "metadata": {},
   "outputs": [
    {
     "name": "stdout",
     "output_type": "stream",
     "text": [
      "> hello\n",
      "hello\n",
      "> finished\n",
      "finished\n",
      "> done\n",
      "Done!\n"
     ]
    }
   ],
   "source": [
    "while True:\n",
    "    line = input('> ')\n",
    "    if line == 'done' :\n",
    "        break\n",
    "    print(line)\n",
    "print('Done!')\n",
    "    "
   ]
  },
  {
   "cell_type": "code",
   "execution_count": 40,
   "id": "40fbb7cf",
   "metadata": {},
   "outputs": [
    {
     "name": "stdout",
     "output_type": "stream",
     "text": [
      "5\n",
      "4\n",
      "3\n",
      "2\n",
      "1\n",
      "Blastoff!\n"
     ]
    }
   ],
   "source": [
    "for i in [5, 4, 3, 2, 1] :\n",
    "    print(i)\n",
    "print('Blastoff!')"
   ]
  },
  {
   "cell_type": "code",
   "execution_count": 41,
   "id": "9df661fc",
   "metadata": {},
   "outputs": [
    {
     "name": "stdout",
     "output_type": "stream",
     "text": [
      "Before\n",
      "9\n",
      "41\n",
      "12\n",
      "3\n",
      "74\n",
      "15\n",
      "After\n"
     ]
    }
   ],
   "source": [
    "print('Before')\n",
    "for thing in [9, 41, 12, 3, 74, 15] :\n",
    "    print(thing)\n",
    "print('After')    "
   ]
  },
  {
   "cell_type": "code",
   "execution_count": 42,
   "id": "beb17775",
   "metadata": {},
   "outputs": [
    {
     "name": "stdout",
     "output_type": "stream",
     "text": [
      "Before -1\n",
      "9 9\n",
      "41 41\n",
      "41 12\n",
      "41 3\n",
      "74 74\n",
      "74 15\n",
      "After 74\n"
     ]
    }
   ],
   "source": [
    "largest_so_far = -1\n",
    "print('Before', largest_so_far)\n",
    "for the_num in [9, 41, 12, 3, 74, 15] :\n",
    "    if the_num > largest_so_far :\n",
    "        largest_so_far = the_num\n",
    "    print(largest_so_far, the_num)\n",
    "print('After', largest_so_far)\n"
   ]
  },
  {
   "cell_type": "code",
   "execution_count": 43,
   "id": "acc8ee89",
   "metadata": {},
   "outputs": [
    {
     "name": "stdout",
     "output_type": "stream",
     "text": [
      "Before 0\n",
      "1 9\n",
      "2 41\n",
      "3 12\n",
      "4 3\n",
      "5 74\n",
      "6 15\n",
      "After 6\n"
     ]
    }
   ],
   "source": [
    "zork = 0\n",
    "print('Before', zork)\n",
    "for thing in [9, 41, 12, 3, 74, 15] :\n",
    "    zork = zork + 1\n",
    "    print(zork, thing)\n",
    "print('After', zork)"
   ]
  },
  {
   "cell_type": "code",
   "execution_count": 44,
   "id": "ecb3f271",
   "metadata": {},
   "outputs": [
    {
     "name": "stdout",
     "output_type": "stream",
     "text": [
      "Before 0 0\n",
      "1 9 9\n",
      "2 50 41\n",
      "3 62 12\n",
      "4 65 3\n",
      "5 139 74\n",
      "6 154 15\n",
      "After 6 154 25.666666666666668\n"
     ]
    }
   ],
   "source": [
    "count = 0\n",
    "sum = 0\n",
    "print('Before', count, sum)\n",
    "for value in [9, 41, 12, 3, 74, 15] :\n",
    "    count = count + 1\n",
    "    sum = sum + value\n",
    "    print(count, sum, value)\n",
    "print('After', count, sum, sum / count)"
   ]
  },
  {
   "cell_type": "code",
   "execution_count": 45,
   "id": "46dfeff4",
   "metadata": {},
   "outputs": [
    {
     "name": "stdout",
     "output_type": "stream",
     "text": [
      "Before\n",
      "Large number 41\n",
      "Large number 74\n",
      "After\n"
     ]
    }
   ],
   "source": [
    "print('Before')\n",
    "for value in [9, 41, 12, 3, 74, 15] :\n",
    "    if value > 20:\n",
    "        print('Large number',value)\n",
    "print('After')"
   ]
  },
  {
   "cell_type": "code",
   "execution_count": 46,
   "id": "91544f26",
   "metadata": {},
   "outputs": [
    {
     "name": "stdout",
     "output_type": "stream",
     "text": [
      "Before False\n",
      "False 9\n",
      "False 41\n",
      "False 12\n",
      "True 3\n",
      "True 74\n",
      "True 15\n",
      "After True\n"
     ]
    }
   ],
   "source": [
    "found = False\n",
    "print('Before', found)\n",
    "for value in [9, 41, 12, 3, 74, 15] : \n",
    "    if value == 3 :\n",
    "        found = True\n",
    "    print(found, value)\n",
    "print('After', found)"
   ]
  },
  {
   "cell_type": "code",
   "execution_count": 47,
   "id": "4d81ef56",
   "metadata": {},
   "outputs": [
    {
     "name": "stdout",
     "output_type": "stream",
     "text": [
      "Before -1\n",
      "-1 9\n",
      "-1 41\n",
      "-1 12\n",
      "-1 3\n",
      "-1 74\n",
      "-1 15\n",
      "After -1\n"
     ]
    }
   ],
   "source": [
    "smallest_so_far = -1\n",
    "print('Before', smallest_so_far)\n",
    "for the_num in [9, 41, 12, 3, 74, 15] :\n",
    "    if the_num < smallest_so_far :\n",
    "        smallest_so_far = the_num\n",
    "    print(smallest_so_far, the_num)\n",
    "    \n",
    "print('After', smallest_so_far)"
   ]
  },
  {
   "cell_type": "code",
   "execution_count": 48,
   "id": "7b9750b4",
   "metadata": {},
   "outputs": [
    {
     "name": "stdout",
     "output_type": "stream",
     "text": [
      "Before\n",
      "3 3\n",
      "3 41\n",
      "3 12\n",
      "3 9\n",
      "3 74\n",
      "3 15\n",
      "After 3\n"
     ]
    }
   ],
   "source": [
    "smallest = None\n",
    "print('Before')\n",
    "for value in [3, 41, 12, 9, 74, 15] :\n",
    "    if smallest is None : \n",
    "        smallest = value\n",
    "    elif value < smallest : \n",
    "        smallest = value\n",
    "    print(smallest, value)\n",
    "print('After', smallest)\n"
   ]
  },
  {
   "cell_type": "markdown",
   "id": "95fdd198",
   "metadata": {},
   "source": [
    "# chapter 6"
   ]
  },
  {
   "cell_type": "code",
   "execution_count": 54,
   "id": "dd033930",
   "metadata": {},
   "outputs": [
    {
     "name": "stdout",
     "output_type": "stream",
     "text": [
      "6\n"
     ]
    }
   ],
   "source": [
    ">>> fruit = 'banana'\n",
    ">>> print(len(fruit))"
   ]
  },
  {
   "cell_type": "code",
   "execution_count": 56,
   "id": "c60929a1",
   "metadata": {},
   "outputs": [
    {
     "name": "stdout",
     "output_type": "stream",
     "text": [
      "5\n"
     ]
    }
   ],
   "source": [
    ">>> fruit = 'apple'\n",
    ">>> x = len(fruit)\n",
    ">>> print(x)"
   ]
  },
  {
   "cell_type": "code",
   "execution_count": 57,
   "id": "3165ff49",
   "metadata": {},
   "outputs": [
    {
     "name": "stdout",
     "output_type": "stream",
     "text": [
      "0 b\n",
      "1 a\n",
      "2 n\n",
      "3 a\n",
      "4 n\n",
      "5 a\n"
     ]
    }
   ],
   "source": [
    "fruit = 'banana'\n",
    "index = 0\n",
    "while index < len(fruit): \n",
    "    letter = fruit[index]\n",
    "    print(index, letter)\n",
    "    index = index + 1"
   ]
  },
  {
   "cell_type": "code",
   "execution_count": 58,
   "id": "dc9d3d10",
   "metadata": {},
   "outputs": [
    {
     "name": "stdout",
     "output_type": "stream",
     "text": [
      "b\n",
      "a\n",
      "n\n",
      "a\n",
      "n\n",
      "a\n"
     ]
    }
   ],
   "source": [
    "fruit = 'banana'\n",
    "for letter in fruit: \n",
    "    print(letter)\n"
   ]
  },
  {
   "cell_type": "code",
   "execution_count": 59,
   "id": "38ac4d2c",
   "metadata": {},
   "outputs": [
    {
     "name": "stdout",
     "output_type": "stream",
     "text": [
      "3\n"
     ]
    }
   ],
   "source": [
    "word = 'banana'\n",
    "count = 0\n",
    "for letter in word :\n",
    "    if letter == 'a' :\n",
    "        count = count + 1\n",
    "print(count)\n"
   ]
  },
  {
   "cell_type": "code",
   "execution_count": 60,
   "id": "85b4cf22",
   "metadata": {},
   "outputs": [
    {
     "name": "stdout",
     "output_type": "stream",
     "text": [
      "Mont\n",
      "P\n",
      "Python\n"
     ]
    }
   ],
   "source": [
    ">>> s = 'Monty Python'\n",
    ">>> print(s[0:4])\n",
    ">>> print(s[6:7])\n",
    ">>> print(s[6:20])"
   ]
  },
  {
   "cell_type": "code",
   "execution_count": 61,
   "id": "43bcb8c4",
   "metadata": {},
   "outputs": [
    {
     "name": "stdout",
     "output_type": "stream",
     "text": [
      "Mo\n",
      "thon\n",
      "Monty Python\n"
     ]
    }
   ],
   "source": [
    ">>> s = 'Monty Python'\n",
    ">>> print(s[:2])\n",
    ">>> print(s[8:])\n",
    ">>> print(s[:])"
   ]
  },
  {
   "cell_type": "code",
   "execution_count": 62,
   "id": "37bb2a7b",
   "metadata": {},
   "outputs": [
    {
     "name": "stdout",
     "output_type": "stream",
     "text": [
      "HelloThere\n",
      "Hello There\n"
     ]
    }
   ],
   "source": [
    ">>> a = 'Hello'\n",
    ">>> b = a + 'There'\n",
    ">>> print(b)\n",
    ">>> c = a + ' ' + 'There'\n",
    ">>> print(c)\n",
    ">>>"
   ]
  },
  {
   "cell_type": "code",
   "execution_count": 67,
   "id": "20edfe1c",
   "metadata": {},
   "outputs": [
    {
     "name": "stdout",
     "output_type": "stream",
     "text": [
      "Found it!\n"
     ]
    }
   ],
   "source": [
    ">>> fruit = 'banana'\n",
    ">>> if 'a' in fruit :\n",
    "...     print('Found it!')\n",
    "...\n",
    ">>>"
   ]
  },
  {
   "cell_type": "code",
   "execution_count": 68,
   "id": "1945ff6c",
   "metadata": {},
   "outputs": [
    {
     "name": "stdout",
     "output_type": "stream",
     "text": [
      "hello bob\n",
      "Hello Bob\n",
      "hi there\n"
     ]
    }
   ],
   "source": [
    ">>> greet = 'Hello Bob'\n",
    ">>> zap = greet.lower()\n",
    ">>> print(zap)\n",
    "\n",
    ">>> print(greet)\n",
    "\n",
    ">>> print('Hi There'.lower())\n",
    ">>>"
   ]
  },
  {
   "cell_type": "code",
   "execution_count": 69,
   "id": "fcd3eb88",
   "metadata": {},
   "outputs": [
    {
     "name": "stdout",
     "output_type": "stream",
     "text": [
      "2\n"
     ]
    }
   ],
   "source": [
    ">>> fruit = 'banana'\n",
    ">>> pos = fruit.find('na')\n",
    ">>> print(pos)"
   ]
  },
  {
   "cell_type": "code",
   "execution_count": 70,
   "id": "acc95ca2",
   "metadata": {},
   "outputs": [
    {
     "name": "stdout",
     "output_type": "stream",
     "text": [
      "-1\n"
     ]
    }
   ],
   "source": [
    ">>> aa = fruit.find('z')\n",
    ">>> print(aa)"
   ]
  },
  {
   "cell_type": "code",
   "execution_count": 71,
   "id": "e3351997",
   "metadata": {},
   "outputs": [
    {
     "name": "stdout",
     "output_type": "stream",
     "text": [
      "Hello Jane\n",
      "HellX BXb\n"
     ]
    }
   ],
   "source": [
    ">>> greet = 'Hello Bob'\n",
    ">>> nstr = greet.replace('Bob','Jane')\n",
    ">>> print(nstr)\n",
    "\n",
    ">>> nstr = greet.replace('o','X')\n",
    ">>> print(nstr)\n",
    ">>>"
   ]
  },
  {
   "cell_type": "code",
   "execution_count": 75,
   "id": "dd71f033",
   "metadata": {},
   "outputs": [
    {
     "name": "stdout",
     "output_type": "stream",
     "text": [
      "21\n",
      "31\n",
      "uct.ac.za\n"
     ]
    }
   ],
   "source": [
    ">>> data = 'From stephen.marquard@uct.ac.za Sat Jan 5 09:14:16 2008'\n",
    ">>> atpos = data.find('@')\n",
    ">>> print(atpos)\n",
    "\n",
    ">>> sppos = data.find(' ',atpos)\n",
    ">>> print(sppos)\n",
    "\n",
    ">>> host = data[atpos+1 : sppos]\n",
    ">>> print(host)"
   ]
  }
 ],
 "metadata": {
  "kernelspec": {
   "display_name": "Python 3 (ipykernel)",
   "language": "python",
   "name": "python3"
  },
  "language_info": {
   "codemirror_mode": {
    "name": "ipython",
    "version": 3
   },
   "file_extension": ".py",
   "mimetype": "text/x-python",
   "name": "python",
   "nbconvert_exporter": "python",
   "pygments_lexer": "ipython3",
   "version": "3.11.4"
  }
 },
 "nbformat": 4,
 "nbformat_minor": 5
}
